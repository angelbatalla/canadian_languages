{
 "cells": [
  {
   "cell_type": "code",
   "execution_count": null,
   "id": "dfe6b684-60dd-4635-b6ca-860fecb792ac",
   "metadata": {},
   "outputs": [],
   "source": [
    "library(tidyverse)\n",
    "install.packages(\"DBI\")\n",
    "install.packages(\"RSQLite\")\n",
    "library(DBI)"
   ]
  },
  {
   "cell_type": "code",
   "execution_count": null,
   "id": "ad96c45c-d134-404c-9125-7b2a487c146e",
   "metadata": {},
   "outputs": [],
   "source": [
    "conn_lang_data <- dbConnect(RSQLite::SQLite(), \"data/can_lang.db\")"
   ]
  },
  {
   "cell_type": "code",
   "execution_count": null,
   "id": "ce68f363-4e95-4770-bfab-09980b05cce5",
   "metadata": {},
   "outputs": [],
   "source": [
    "tables <- dbListTables(conn_lang_data)\n",
    "tables"
   ]
  },
  {
   "cell_type": "code",
   "execution_count": null,
   "id": "50e0ddd5-1638-4d67-a873-4d8877cce851",
   "metadata": {},
   "outputs": [],
   "source": [
    "library(dbplyr)"
   ]
  },
  {
   "cell_type": "code",
   "execution_count": null,
   "id": "ba15bd93-b2b4-4736-9268-c742aaf6da4a",
   "metadata": {},
   "outputs": [],
   "source": [
    "lang_db <- tbl(conn_lang_data, \"lang\")"
   ]
  },
  {
   "cell_type": "code",
   "execution_count": null,
   "id": "8b1e93a1-e662-4bb1-ba28-13ccc560c50a",
   "metadata": {},
   "outputs": [],
   "source": [
    "lang_db"
   ]
  },
  {
   "cell_type": "code",
   "execution_count": null,
   "id": "a9820595-eba6-4d0d-a6ce-5b8ef9fe638c",
   "metadata": {},
   "outputs": [],
   "source": [
    "show_query(tbl(conn_lang_data, \"lang\"))"
   ]
  },
  {
   "cell_type": "code",
   "execution_count": null,
   "id": "fcb1e044-925c-43cc-844a-fe17f01fa36a",
   "metadata": {},
   "outputs": [],
   "source": [
    "aboriginal_lang_db <- filter(lang_db, category == \"Aboriginal languages\")\n",
    "aboriginal_lang_db "
   ]
  },
  {
   "cell_type": "code",
   "execution_count": null,
   "id": "2722b76a-4310-4392-b50d-f9ca310686bd",
   "metadata": {},
   "outputs": [],
   "source": [
    "# we can mostly continue onward as if it were a regular data frame. For example, we can use the filter function to obtain\n",
    "#only certain rows\n",
    "\n",
    "#to retrieve the DB data as a data frame we use the collect function NOT included in dbplyr\n",
    "\n",
    "aboriginal_lang_data <- collect(aboriginal_lang_db)\n",
    "aboriginal_lang_data\n",
    "\n",
    "# make sure you use filter and select on the database table to reduce the data to a reasonable size before using collect\n",
    "# to read it into R!"
   ]
  },
  {
   "cell_type": "code",
   "execution_count": null,
   "id": "5bd2f055-3ce9-4b2e-b795-954e99625fcc",
   "metadata": {},
   "outputs": [],
   "source": [
    "nrow(aboriginal_lang_db)"
   ]
  },
  {
   "cell_type": "code",
   "execution_count": null,
   "id": "cf38b725-2862-4ddf-b6e0-98e6ae47e934",
   "metadata": {},
   "outputs": [],
   "source": [
    "tail(aboriginal_lang_db)"
   ]
  },
  {
   "cell_type": "code",
   "execution_count": null,
   "id": "e839485c-8460-464c-b1f4-205d045be858",
   "metadata": {},
   "outputs": [],
   "source": [
    "# once you have finished your data wrangling of the tbl database reference object, it is advisable to bring it into R as a data frame \n",
    "\n",
    "# using collect. But be very careful using collect: databases are often very big, and reading an entire table into R might take a long\n",
    "\n",
    "# time to run or even possibly crash your machine. So make sure you use filter and select on the database table to reduce the data to\n",
    "\n",
    "# a reasonable size before using collect to read it into R!"
   ]
  },
  {
   "cell_type": "code",
   "execution_count": null,
   "id": "6fa853c7-61d2-4500-b39d-e69236d8fa25",
   "metadata": {},
   "outputs": [],
   "source": [
    "can_lang <- read_csv(\"data/can_lang.csv\")"
   ]
  },
  {
   "cell_type": "code",
   "execution_count": null,
   "id": "b6b17015-12d9-4499-9532-0d6a22fc507a",
   "metadata": {},
   "outputs": [],
   "source": [
    "no_official_lang_data <- filter(can_lang, category != \"Official languages\")\n",
    "write_csv(no_official_lang_data, \"data/no_official_languages.csv\")"
   ]
  },
  {
   "cell_type": "code",
   "execution_count": null,
   "id": "059c383e-65a6-4861-afd5-6f886b780e28",
   "metadata": {},
   "outputs": [],
   "source": [
    "library(rvest)"
   ]
  },
  {
   "cell_type": "code",
   "execution_count": null,
   "id": "d5cd11da-cc93-47c0-9c6e-29625660733d",
   "metadata": {},
   "outputs": [],
   "source": [
    "page <- read_html(\"https://en.wikipedia.org/wiki/Canada\")"
   ]
  },
  {
   "cell_type": "code",
   "execution_count": null,
   "id": "c68fea18-48a8-432d-bffe-3c25a1d01586",
   "metadata": {},
   "outputs": [],
   "source": [
    "selectors <- paste(\"td:nth-child(1)\" ,\n",
    "                   \"td:nth-child(5)\" ,\n",
    "                   \"td:nth-child(7)\" ,\n",
    "                   \"td:nth-child(3)\" , sep=\",\")\n",
    "\n",
    "population_nodes <- html_nodes(page, selectors)\n",
    "head(population_nodes)"
   ]
  },
  {
   "cell_type": "code",
   "execution_count": null,
   "id": "dd647a14-ecc9-4da7-b096-cfd2909dedbe",
   "metadata": {},
   "outputs": [],
   "source": [
    "population_text <- html_text(population_nodes)\n",
    "head(population_text)"
   ]
  },
  {
   "cell_type": "code",
   "execution_count": null,
   "id": "43856040-2e9f-4156-b77e-4b2ed45fcee6",
   "metadata": {},
   "outputs": [],
   "source": [
    "install.packages(\"rtweet\")"
   ]
  },
  {
   "cell_type": "code",
   "execution_count": null,
   "id": "2124fc70-8163-4cd0-bff6-5cdc62842b5e",
   "metadata": {},
   "outputs": [],
   "source": [
    "library(rtweet)"
   ]
  },
  {
   "cell_type": "code",
   "execution_count": null,
   "id": "288d3c5f-127a-464e-9063-8d6076b4aeb0",
   "metadata": {},
   "outputs": [],
   "source": [
    "tidyverse_tweets <- get_timelines('tidyverse', n=400)"
   ]
  },
  {
   "cell_type": "code",
   "execution_count": null,
   "id": "7ac11464-d4ac-4270-964c-a29c9b951c58",
   "metadata": {},
   "outputs": [],
   "source": []
  }
 ],
 "metadata": {
  "kernelspec": {
   "display_name": "R",
   "language": "R",
   "name": "ir"
  },
  "language_info": {
   "codemirror_mode": "r",
   "file_extension": ".r",
   "mimetype": "text/x-r-source",
   "name": "R",
   "pygments_lexer": "r",
   "version": "4.1.1"
  }
 },
 "nbformat": 4,
 "nbformat_minor": 5
}
