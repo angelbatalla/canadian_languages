{
 "cells": [
  {
   "cell_type": "code",
   "execution_count": 1,
   "id": "dfe6b684-60dd-4635-b6ca-860fecb792ac",
   "metadata": {},
   "outputs": [
    {
     "name": "stderr",
     "output_type": "stream",
     "text": [
      "── \u001b[1mAttaching packages\u001b[22m ──────────────────────────────────────────── tidyverse 1.3.1 ──\n",
      "\n",
      "\u001b[32m✔\u001b[39m \u001b[34mggplot2\u001b[39m 3.3.5     \u001b[32m✔\u001b[39m \u001b[34mpurrr  \u001b[39m 0.3.4\n",
      "\u001b[32m✔\u001b[39m \u001b[34mtibble \u001b[39m 3.1.5     \u001b[32m✔\u001b[39m \u001b[34mdplyr  \u001b[39m 1.0.7\n",
      "\u001b[32m✔\u001b[39m \u001b[34mtidyr  \u001b[39m 1.1.4     \u001b[32m✔\u001b[39m \u001b[34mstringr\u001b[39m 1.4.0\n",
      "\u001b[32m✔\u001b[39m \u001b[34mreadr  \u001b[39m 2.0.2     \u001b[32m✔\u001b[39m \u001b[34mforcats\u001b[39m 0.5.1\n",
      "\n",
      "── \u001b[1mConflicts\u001b[22m ─────────────────────────────────────────────── tidyverse_conflicts() ──\n",
      "\u001b[31m✖\u001b[39m \u001b[34mdplyr\u001b[39m::\u001b[32mfilter()\u001b[39m masks \u001b[34mstats\u001b[39m::filter()\n",
      "\u001b[31m✖\u001b[39m \u001b[34mdplyr\u001b[39m::\u001b[32mlag()\u001b[39m    masks \u001b[34mstats\u001b[39m::lag()\n",
      "\n"
     ]
    },
    {
     "name": "stdout",
     "output_type": "stream",
     "text": [
      "\n",
      "The downloaded binary packages are in\n",
      "\t/var/folders/1w/3mfd9pyj0f5_jtkgwtclscz80000gn/T//Rtmpmulm5W/downloaded_packages\n",
      "\n",
      "The downloaded binary packages are in\n",
      "\t/var/folders/1w/3mfd9pyj0f5_jtkgwtclscz80000gn/T//Rtmpmulm5W/downloaded_packages\n"
     ]
    }
   ],
   "source": [
    "library(tidyverse)\n",
    "install.packages(\"DBI\")\n",
    "install.packages(\"RSQLite\")\n",
    "library(DBI)"
   ]
  },
  {
   "cell_type": "code",
   "execution_count": 2,
   "id": "ad96c45c-d134-404c-9125-7b2a487c146e",
   "metadata": {},
   "outputs": [],
   "source": [
    "conn_lang_data <- dbConnect(RSQLite::SQLite(), \"data/can_lang.db\")"
   ]
  },
  {
   "cell_type": "code",
   "execution_count": 3,
   "id": "ce68f363-4e95-4770-bfab-09980b05cce5",
   "metadata": {},
   "outputs": [
    {
     "data": {
      "text/html": [
       "'lang'"
      ],
      "text/latex": [
       "'lang'"
      ],
      "text/markdown": [
       "'lang'"
      ],
      "text/plain": [
       "[1] \"lang\""
      ]
     },
     "metadata": {},
     "output_type": "display_data"
    }
   ],
   "source": [
    "tables <- dbListTables(conn_lang_data)\n",
    "tables"
   ]
  },
  {
   "cell_type": "code",
   "execution_count": 4,
   "id": "50e0ddd5-1638-4d67-a873-4d8877cce851",
   "metadata": {},
   "outputs": [
    {
     "name": "stderr",
     "output_type": "stream",
     "text": [
      "\n",
      "Attaching package: ‘dbplyr’\n",
      "\n",
      "\n",
      "The following objects are masked from ‘package:dplyr’:\n",
      "\n",
      "    ident, sql\n",
      "\n",
      "\n"
     ]
    }
   ],
   "source": [
    "library(dbplyr)"
   ]
  },
  {
   "cell_type": "code",
   "execution_count": 5,
   "id": "ba15bd93-b2b4-4736-9268-c742aaf6da4a",
   "metadata": {},
   "outputs": [],
   "source": [
    "lang_db <- tbl(conn_lang_data, \"lang\")"
   ]
  },
  {
   "cell_type": "code",
   "execution_count": 6,
   "id": "8b1e93a1-e662-4bb1-ba28-13ccc560c50a",
   "metadata": {},
   "outputs": [
    {
     "data": {
      "text/plain": [
       "\u001b[90m# Source:   table<lang> [?? x 6]\u001b[39m\n",
       "\u001b[90m# Database: sqlite 3.36.0 [/Users/angel/canadian_languages/data/can_lang.db]\u001b[39m\n",
       "   category       language    mother_tongue most_at_home most_at_work lang_known\n",
       "   \u001b[3m\u001b[90m<chr>\u001b[39m\u001b[23m          \u001b[3m\u001b[90m<chr>\u001b[39m\u001b[23m               \u001b[3m\u001b[90m<dbl>\u001b[39m\u001b[23m        \u001b[3m\u001b[90m<dbl>\u001b[39m\u001b[23m        \u001b[3m\u001b[90m<dbl>\u001b[39m\u001b[23m      \u001b[3m\u001b[90m<dbl>\u001b[39m\u001b[23m\n",
       "\u001b[90m 1\u001b[39m Aboriginal la… Aboriginal…           590          235           30        665\n",
       "\u001b[90m 2\u001b[39m Non-Official … Afrikaans           \u001b[4m1\u001b[24m\u001b[4m0\u001b[24m260         \u001b[4m4\u001b[24m785           85      \u001b[4m2\u001b[24m\u001b[4m3\u001b[24m415\n",
       "\u001b[90m 3\u001b[39m Non-Official … Afro-Asiat…          \u001b[4m1\u001b[24m150          445           10       \u001b[4m2\u001b[24m775\n",
       "\u001b[90m 4\u001b[39m Non-Official … Akan (Twi)          \u001b[4m1\u001b[24m\u001b[4m3\u001b[24m460         \u001b[4m5\u001b[24m985           25      \u001b[4m2\u001b[24m\u001b[4m2\u001b[24m150\n",
       "\u001b[90m 5\u001b[39m Non-Official … Albanian            \u001b[4m2\u001b[24m\u001b[4m6\u001b[24m895        \u001b[4m1\u001b[24m\u001b[4m3\u001b[24m135          345      \u001b[4m3\u001b[24m\u001b[4m1\u001b[24m930\n",
       "\u001b[90m 6\u001b[39m Aboriginal la… Algonquian…            45           10            0        120\n",
       "\u001b[90m 7\u001b[39m Aboriginal la… Algonquin            \u001b[4m1\u001b[24m260          370           40       \u001b[4m2\u001b[24m480\n",
       "\u001b[90m 8\u001b[39m Non-Official … American S…          \u001b[4m2\u001b[24m685         \u001b[4m3\u001b[24m020         \u001b[4m1\u001b[24m145      \u001b[4m2\u001b[24m\u001b[4m1\u001b[24m930\n",
       "\u001b[90m 9\u001b[39m Non-Official … Amharic             \u001b[4m2\u001b[24m\u001b[4m2\u001b[24m465        \u001b[4m1\u001b[24m\u001b[4m2\u001b[24m785          200      \u001b[4m3\u001b[24m\u001b[4m3\u001b[24m670\n",
       "\u001b[90m10\u001b[39m Non-Official … Arabic             \u001b[4m4\u001b[24m\u001b[4m1\u001b[24m\u001b[4m9\u001b[24m890       \u001b[4m2\u001b[24m\u001b[4m2\u001b[24m\u001b[4m3\u001b[24m535         \u001b[4m5\u001b[24m585     \u001b[4m6\u001b[24m\u001b[4m2\u001b[24m\u001b[4m9\u001b[24m055\n",
       "\u001b[90m# … with more rows\u001b[39m"
      ]
     },
     "metadata": {},
     "output_type": "display_data"
    }
   ],
   "source": [
    "lang_db "
   ]
  },
  {
   "cell_type": "code",
   "execution_count": 7,
   "id": "a9820595-eba6-4d0d-a6ce-5b8ef9fe638c",
   "metadata": {},
   "outputs": [
    {
     "name": "stdout",
     "output_type": "stream",
     "text": [
      "<SQL>\n",
      "SELECT *\n",
      "FROM `lang`\n"
     ]
    }
   ],
   "source": [
    "show_query(tbl(conn_lang_data, \"lang\"))"
   ]
  },
  {
   "cell_type": "code",
   "execution_count": 8,
   "id": "fcb1e044-925c-43cc-844a-fe17f01fa36a",
   "metadata": {},
   "outputs": [
    {
     "data": {
      "text/plain": [
       "\u001b[90m# Source:   lazy query [?? x 6]\u001b[39m\n",
       "\u001b[90m# Database: sqlite 3.36.0 [/Users/angel/canadian_languages/data/can_lang.db]\u001b[39m\n",
       "   category     language      mother_tongue most_at_home most_at_work lang_known\n",
       "   \u001b[3m\u001b[90m<chr>\u001b[39m\u001b[23m        \u001b[3m\u001b[90m<chr>\u001b[39m\u001b[23m                 \u001b[3m\u001b[90m<dbl>\u001b[39m\u001b[23m        \u001b[3m\u001b[90m<dbl>\u001b[39m\u001b[23m        \u001b[3m\u001b[90m<dbl>\u001b[39m\u001b[23m      \u001b[3m\u001b[90m<dbl>\u001b[39m\u001b[23m\n",
       "\u001b[90m 1\u001b[39m Aboriginal … Aboriginal l…           590          235           30        665\n",
       "\u001b[90m 2\u001b[39m Aboriginal … Algonquian l…            45           10            0        120\n",
       "\u001b[90m 3\u001b[39m Aboriginal … Algonquin              \u001b[4m1\u001b[24m260          370           40       \u001b[4m2\u001b[24m480\n",
       "\u001b[90m 4\u001b[39m Aboriginal … Athabaskan l…            50           10            0         85\n",
       "\u001b[90m 5\u001b[39m Aboriginal … Atikamekw              \u001b[4m6\u001b[24m150         \u001b[4m5\u001b[24m465         \u001b[4m1\u001b[24m100       \u001b[4m6\u001b[24m645\n",
       "\u001b[90m 6\u001b[39m Aboriginal … Babine (Wets…           110           20           10        210\n",
       "\u001b[90m 7\u001b[39m Aboriginal … Beaver                  190           50            0        340\n",
       "\u001b[90m 8\u001b[39m Aboriginal … Blackfoot              \u001b[4m2\u001b[24m815         \u001b[4m1\u001b[24m110           85       \u001b[4m5\u001b[24m645\n",
       "\u001b[90m 9\u001b[39m Aboriginal … Carrier                \u001b[4m1\u001b[24m025          250           15       \u001b[4m2\u001b[24m100\n",
       "\u001b[90m10\u001b[39m Aboriginal … Cayuga                   45           10           10        125\n",
       "\u001b[90m# … with more rows\u001b[39m"
      ]
     },
     "metadata": {},
     "output_type": "display_data"
    }
   ],
   "source": [
    "aboriginal_lang_db <- filter(lang_db, category == \"Aboriginal languages\")\n",
    "aboriginal_lang_db "
   ]
  },
  {
   "cell_type": "code",
   "execution_count": 9,
   "id": "2722b76a-4310-4392-b50d-f9ca310686bd",
   "metadata": {},
   "outputs": [
    {
     "data": {
      "text/html": [
       "<table class=\"dataframe\">\n",
       "<caption>A tibble: 67 × 6</caption>\n",
       "<thead>\n",
       "\t<tr><th scope=col>category</th><th scope=col>language</th><th scope=col>mother_tongue</th><th scope=col>most_at_home</th><th scope=col>most_at_work</th><th scope=col>lang_known</th></tr>\n",
       "\t<tr><th scope=col>&lt;chr&gt;</th><th scope=col>&lt;chr&gt;</th><th scope=col>&lt;dbl&gt;</th><th scope=col>&lt;dbl&gt;</th><th scope=col>&lt;dbl&gt;</th><th scope=col>&lt;dbl&gt;</th></tr>\n",
       "</thead>\n",
       "<tbody>\n",
       "\t<tr><td>Aboriginal languages</td><td>Aboriginal languages, n.o.s.</td><td>  590</td><td>  235</td><td>  30</td><td>  665</td></tr>\n",
       "\t<tr><td>Aboriginal languages</td><td>Algonquian languages, n.i.e.</td><td>   45</td><td>   10</td><td>   0</td><td>  120</td></tr>\n",
       "\t<tr><td>Aboriginal languages</td><td>Algonquin                   </td><td> 1260</td><td>  370</td><td>  40</td><td> 2480</td></tr>\n",
       "\t<tr><td>Aboriginal languages</td><td>Athabaskan languages, n.i.e.</td><td>   50</td><td>   10</td><td>   0</td><td>   85</td></tr>\n",
       "\t<tr><td>Aboriginal languages</td><td>Atikamekw                   </td><td> 6150</td><td> 5465</td><td>1100</td><td> 6645</td></tr>\n",
       "\t<tr><td>Aboriginal languages</td><td>Babine (Wetsuwet'en)        </td><td>  110</td><td>   20</td><td>  10</td><td>  210</td></tr>\n",
       "\t<tr><td>Aboriginal languages</td><td>Beaver                      </td><td>  190</td><td>   50</td><td>   0</td><td>  340</td></tr>\n",
       "\t<tr><td>Aboriginal languages</td><td>Blackfoot                   </td><td> 2815</td><td> 1110</td><td>  85</td><td> 5645</td></tr>\n",
       "\t<tr><td>Aboriginal languages</td><td>Carrier                     </td><td> 1025</td><td>  250</td><td>  15</td><td> 2100</td></tr>\n",
       "\t<tr><td>Aboriginal languages</td><td>Cayuga                      </td><td>   45</td><td>   10</td><td>  10</td><td>  125</td></tr>\n",
       "\t<tr><td>Aboriginal languages</td><td>Chilcotin                   </td><td>  655</td><td>  255</td><td>  15</td><td> 1150</td></tr>\n",
       "\t<tr><td>Aboriginal languages</td><td>Comox                       </td><td>   85</td><td>    0</td><td>   0</td><td>  185</td></tr>\n",
       "\t<tr><td>Aboriginal languages</td><td>Cree, n.o.s.                </td><td>64050</td><td>37950</td><td>7800</td><td>86115</td></tr>\n",
       "\t<tr><td>Aboriginal languages</td><td>Dakota                      </td><td> 1210</td><td>  255</td><td>  20</td><td> 1760</td></tr>\n",
       "\t<tr><td>Aboriginal languages</td><td>Dene                        </td><td>10700</td><td> 7710</td><td> 770</td><td>13060</td></tr>\n",
       "\t<tr><td>Aboriginal languages</td><td>Dogrib (Tlicho)             </td><td> 1650</td><td> 1020</td><td> 165</td><td> 2375</td></tr>\n",
       "\t<tr><td>Aboriginal languages</td><td>Gitxsan (Gitksan)           </td><td>  880</td><td>  315</td><td>  10</td><td> 1305</td></tr>\n",
       "\t<tr><td>Aboriginal languages</td><td>Gwich'in                    </td><td>  255</td><td>   50</td><td>  10</td><td>  360</td></tr>\n",
       "\t<tr><td>Aboriginal languages</td><td>Haida                       </td><td>   80</td><td>   10</td><td>   0</td><td>  465</td></tr>\n",
       "\t<tr><td>Aboriginal languages</td><td>Haisla                      </td><td>   90</td><td>   20</td><td>   0</td><td>  175</td></tr>\n",
       "\t<tr><td>Aboriginal languages</td><td>Halkomelem                  </td><td>  480</td><td>   50</td><td>  20</td><td> 1060</td></tr>\n",
       "\t<tr><td>Aboriginal languages</td><td>Heiltsuk                    </td><td>  100</td><td>    5</td><td>  10</td><td>  125</td></tr>\n",
       "\t<tr><td>Aboriginal languages</td><td>Inuinnaqtun (Inuvialuktun)  </td><td> 1020</td><td>  165</td><td>  30</td><td> 1975</td></tr>\n",
       "\t<tr><td>Aboriginal languages</td><td>Inuit languages, n.i.e.     </td><td>  310</td><td>   90</td><td>  15</td><td>  470</td></tr>\n",
       "\t<tr><td>Aboriginal languages</td><td>Inuktitut                   </td><td>35210</td><td>29230</td><td>8795</td><td>40620</td></tr>\n",
       "\t<tr><td>Aboriginal languages</td><td>Iroquoian languages, n.i.e. </td><td>   35</td><td>    5</td><td>   0</td><td>  115</td></tr>\n",
       "\t<tr><td>Aboriginal languages</td><td>Kaska (Nahani)              </td><td>  180</td><td>   20</td><td>  10</td><td>  365</td></tr>\n",
       "\t<tr><td>Aboriginal languages</td><td>Kutenai                     </td><td>  110</td><td>   10</td><td>   0</td><td>  170</td></tr>\n",
       "\t<tr><td>Aboriginal languages</td><td>Kwakiutl (Kwak'wala)        </td><td>  325</td><td>   25</td><td>  15</td><td>  605</td></tr>\n",
       "\t<tr><td>Aboriginal languages</td><td>Lillooet                    </td><td>  315</td><td>   25</td><td>  15</td><td>  790</td></tr>\n",
       "\t<tr><td>⋮</td><td>⋮</td><td>⋮</td><td>⋮</td><td>⋮</td><td>⋮</td></tr>\n",
       "\t<tr><td>Aboriginal languages</td><td>Nisga'a                   </td><td>  400</td><td>  75</td><td>  10</td><td> 1055</td></tr>\n",
       "\t<tr><td>Aboriginal languages</td><td>North Slavey (Hare)       </td><td>  765</td><td> 340</td><td>  95</td><td> 1005</td></tr>\n",
       "\t<tr><td>Aboriginal languages</td><td>Northern East Cree        </td><td>  315</td><td> 110</td><td>  35</td><td>  550</td></tr>\n",
       "\t<tr><td>Aboriginal languages</td><td>Northern Tutchone         </td><td>  220</td><td>  30</td><td>   0</td><td>  280</td></tr>\n",
       "\t<tr><td>Aboriginal languages</td><td>Nuu-chah-nulth (Nootka)   </td><td>  280</td><td>  30</td><td>  10</td><td>  560</td></tr>\n",
       "\t<tr><td>Aboriginal languages</td><td>Oji-Cree                  </td><td>12855</td><td>7905</td><td>1080</td><td>15605</td></tr>\n",
       "\t<tr><td>Aboriginal languages</td><td>Ojibway                   </td><td>17885</td><td>6175</td><td> 765</td><td>28580</td></tr>\n",
       "\t<tr><td>Aboriginal languages</td><td>Okanagan                  </td><td>  275</td><td>  80</td><td>  20</td><td>  820</td></tr>\n",
       "\t<tr><td>Aboriginal languages</td><td>Oneida                    </td><td>   60</td><td>  15</td><td>   0</td><td>  185</td></tr>\n",
       "\t<tr><td>Aboriginal languages</td><td>Ottawa (Odawa)            </td><td>  150</td><td>  75</td><td>   0</td><td>  205</td></tr>\n",
       "\t<tr><td>Aboriginal languages</td><td>Plains Cree               </td><td> 3065</td><td>1345</td><td>  95</td><td> 5905</td></tr>\n",
       "\t<tr><td>Aboriginal languages</td><td>Salish languages, n.i.e.  </td><td>  260</td><td>  25</td><td>   0</td><td>  560</td></tr>\n",
       "\t<tr><td>Aboriginal languages</td><td>Sarsi (Sarcee)            </td><td>   80</td><td>  10</td><td>   0</td><td>  145</td></tr>\n",
       "\t<tr><td>Aboriginal languages</td><td>Sekani                    </td><td>   85</td><td>  15</td><td>   0</td><td>  185</td></tr>\n",
       "\t<tr><td>Aboriginal languages</td><td>Shuswap (Secwepemctsin)   </td><td>  445</td><td>  50</td><td>  35</td><td> 1305</td></tr>\n",
       "\t<tr><td>Aboriginal languages</td><td>Siouan languages, n.i.e.  </td><td>   55</td><td>  20</td><td>   0</td><td>  140</td></tr>\n",
       "\t<tr><td>Aboriginal languages</td><td>Slavey, n.o.s.            </td><td>  280</td><td> 105</td><td>  10</td><td>  675</td></tr>\n",
       "\t<tr><td>Aboriginal languages</td><td>South Slavey              </td><td>  945</td><td> 370</td><td>  35</td><td> 1365</td></tr>\n",
       "\t<tr><td>Aboriginal languages</td><td>Southern East Cree        </td><td>   45</td><td>  15</td><td>   0</td><td>   40</td></tr>\n",
       "\t<tr><td>Aboriginal languages</td><td>Southern Tutchone         </td><td>   70</td><td>   5</td><td>   0</td><td>  145</td></tr>\n",
       "\t<tr><td>Aboriginal languages</td><td>Squamish                  </td><td>   40</td><td>   5</td><td>  10</td><td>  285</td></tr>\n",
       "\t<tr><td>Aboriginal languages</td><td>Stoney                    </td><td> 3025</td><td>1950</td><td> 240</td><td> 3675</td></tr>\n",
       "\t<tr><td>Aboriginal languages</td><td>Straits                   </td><td>   80</td><td>  25</td><td>  15</td><td>  365</td></tr>\n",
       "\t<tr><td>Aboriginal languages</td><td>Swampy Cree               </td><td> 1440</td><td> 330</td><td>  10</td><td> 2350</td></tr>\n",
       "\t<tr><td>Aboriginal languages</td><td>Tahltan                   </td><td>   95</td><td>   5</td><td>   0</td><td>  265</td></tr>\n",
       "\t<tr><td>Aboriginal languages</td><td>Thompson (Ntlakapamux)    </td><td>  335</td><td>  20</td><td>   0</td><td>  450</td></tr>\n",
       "\t<tr><td>Aboriginal languages</td><td>Tlingit                   </td><td>   95</td><td>   0</td><td>  10</td><td>  260</td></tr>\n",
       "\t<tr><td>Aboriginal languages</td><td>Tsimshian                 </td><td>  200</td><td>  30</td><td>  10</td><td>  410</td></tr>\n",
       "\t<tr><td>Aboriginal languages</td><td>Wakashan languages, n.i.e.</td><td>   10</td><td>   0</td><td>   0</td><td>   25</td></tr>\n",
       "\t<tr><td>Aboriginal languages</td><td>Woods Cree                </td><td> 1840</td><td> 800</td><td>  75</td><td> 2665</td></tr>\n",
       "</tbody>\n",
       "</table>\n"
      ],
      "text/latex": [
       "A tibble: 67 × 6\n",
       "\\begin{tabular}{llllll}\n",
       " category & language & mother\\_tongue & most\\_at\\_home & most\\_at\\_work & lang\\_known\\\\\n",
       " <chr> & <chr> & <dbl> & <dbl> & <dbl> & <dbl>\\\\\n",
       "\\hline\n",
       "\t Aboriginal languages & Aboriginal languages, n.o.s. &   590 &   235 &   30 &   665\\\\\n",
       "\t Aboriginal languages & Algonquian languages, n.i.e. &    45 &    10 &    0 &   120\\\\\n",
       "\t Aboriginal languages & Algonquin                    &  1260 &   370 &   40 &  2480\\\\\n",
       "\t Aboriginal languages & Athabaskan languages, n.i.e. &    50 &    10 &    0 &    85\\\\\n",
       "\t Aboriginal languages & Atikamekw                    &  6150 &  5465 & 1100 &  6645\\\\\n",
       "\t Aboriginal languages & Babine (Wetsuwet'en)         &   110 &    20 &   10 &   210\\\\\n",
       "\t Aboriginal languages & Beaver                       &   190 &    50 &    0 &   340\\\\\n",
       "\t Aboriginal languages & Blackfoot                    &  2815 &  1110 &   85 &  5645\\\\\n",
       "\t Aboriginal languages & Carrier                      &  1025 &   250 &   15 &  2100\\\\\n",
       "\t Aboriginal languages & Cayuga                       &    45 &    10 &   10 &   125\\\\\n",
       "\t Aboriginal languages & Chilcotin                    &   655 &   255 &   15 &  1150\\\\\n",
       "\t Aboriginal languages & Comox                        &    85 &     0 &    0 &   185\\\\\n",
       "\t Aboriginal languages & Cree, n.o.s.                 & 64050 & 37950 & 7800 & 86115\\\\\n",
       "\t Aboriginal languages & Dakota                       &  1210 &   255 &   20 &  1760\\\\\n",
       "\t Aboriginal languages & Dene                         & 10700 &  7710 &  770 & 13060\\\\\n",
       "\t Aboriginal languages & Dogrib (Tlicho)              &  1650 &  1020 &  165 &  2375\\\\\n",
       "\t Aboriginal languages & Gitxsan (Gitksan)            &   880 &   315 &   10 &  1305\\\\\n",
       "\t Aboriginal languages & Gwich'in                     &   255 &    50 &   10 &   360\\\\\n",
       "\t Aboriginal languages & Haida                        &    80 &    10 &    0 &   465\\\\\n",
       "\t Aboriginal languages & Haisla                       &    90 &    20 &    0 &   175\\\\\n",
       "\t Aboriginal languages & Halkomelem                   &   480 &    50 &   20 &  1060\\\\\n",
       "\t Aboriginal languages & Heiltsuk                     &   100 &     5 &   10 &   125\\\\\n",
       "\t Aboriginal languages & Inuinnaqtun (Inuvialuktun)   &  1020 &   165 &   30 &  1975\\\\\n",
       "\t Aboriginal languages & Inuit languages, n.i.e.      &   310 &    90 &   15 &   470\\\\\n",
       "\t Aboriginal languages & Inuktitut                    & 35210 & 29230 & 8795 & 40620\\\\\n",
       "\t Aboriginal languages & Iroquoian languages, n.i.e.  &    35 &     5 &    0 &   115\\\\\n",
       "\t Aboriginal languages & Kaska (Nahani)               &   180 &    20 &   10 &   365\\\\\n",
       "\t Aboriginal languages & Kutenai                      &   110 &    10 &    0 &   170\\\\\n",
       "\t Aboriginal languages & Kwakiutl (Kwak'wala)         &   325 &    25 &   15 &   605\\\\\n",
       "\t Aboriginal languages & Lillooet                     &   315 &    25 &   15 &   790\\\\\n",
       "\t ⋮ & ⋮ & ⋮ & ⋮ & ⋮ & ⋮\\\\\n",
       "\t Aboriginal languages & Nisga'a                    &   400 &   75 &   10 &  1055\\\\\n",
       "\t Aboriginal languages & North Slavey (Hare)        &   765 &  340 &   95 &  1005\\\\\n",
       "\t Aboriginal languages & Northern East Cree         &   315 &  110 &   35 &   550\\\\\n",
       "\t Aboriginal languages & Northern Tutchone          &   220 &   30 &    0 &   280\\\\\n",
       "\t Aboriginal languages & Nuu-chah-nulth (Nootka)    &   280 &   30 &   10 &   560\\\\\n",
       "\t Aboriginal languages & Oji-Cree                   & 12855 & 7905 & 1080 & 15605\\\\\n",
       "\t Aboriginal languages & Ojibway                    & 17885 & 6175 &  765 & 28580\\\\\n",
       "\t Aboriginal languages & Okanagan                   &   275 &   80 &   20 &   820\\\\\n",
       "\t Aboriginal languages & Oneida                     &    60 &   15 &    0 &   185\\\\\n",
       "\t Aboriginal languages & Ottawa (Odawa)             &   150 &   75 &    0 &   205\\\\\n",
       "\t Aboriginal languages & Plains Cree                &  3065 & 1345 &   95 &  5905\\\\\n",
       "\t Aboriginal languages & Salish languages, n.i.e.   &   260 &   25 &    0 &   560\\\\\n",
       "\t Aboriginal languages & Sarsi (Sarcee)             &    80 &   10 &    0 &   145\\\\\n",
       "\t Aboriginal languages & Sekani                     &    85 &   15 &    0 &   185\\\\\n",
       "\t Aboriginal languages & Shuswap (Secwepemctsin)    &   445 &   50 &   35 &  1305\\\\\n",
       "\t Aboriginal languages & Siouan languages, n.i.e.   &    55 &   20 &    0 &   140\\\\\n",
       "\t Aboriginal languages & Slavey, n.o.s.             &   280 &  105 &   10 &   675\\\\\n",
       "\t Aboriginal languages & South Slavey               &   945 &  370 &   35 &  1365\\\\\n",
       "\t Aboriginal languages & Southern East Cree         &    45 &   15 &    0 &    40\\\\\n",
       "\t Aboriginal languages & Southern Tutchone          &    70 &    5 &    0 &   145\\\\\n",
       "\t Aboriginal languages & Squamish                   &    40 &    5 &   10 &   285\\\\\n",
       "\t Aboriginal languages & Stoney                     &  3025 & 1950 &  240 &  3675\\\\\n",
       "\t Aboriginal languages & Straits                    &    80 &   25 &   15 &   365\\\\\n",
       "\t Aboriginal languages & Swampy Cree                &  1440 &  330 &   10 &  2350\\\\\n",
       "\t Aboriginal languages & Tahltan                    &    95 &    5 &    0 &   265\\\\\n",
       "\t Aboriginal languages & Thompson (Ntlakapamux)     &   335 &   20 &    0 &   450\\\\\n",
       "\t Aboriginal languages & Tlingit                    &    95 &    0 &   10 &   260\\\\\n",
       "\t Aboriginal languages & Tsimshian                  &   200 &   30 &   10 &   410\\\\\n",
       "\t Aboriginal languages & Wakashan languages, n.i.e. &    10 &    0 &    0 &    25\\\\\n",
       "\t Aboriginal languages & Woods Cree                 &  1840 &  800 &   75 &  2665\\\\\n",
       "\\end{tabular}\n"
      ],
      "text/markdown": [
       "\n",
       "A tibble: 67 × 6\n",
       "\n",
       "| category &lt;chr&gt; | language &lt;chr&gt; | mother_tongue &lt;dbl&gt; | most_at_home &lt;dbl&gt; | most_at_work &lt;dbl&gt; | lang_known &lt;dbl&gt; |\n",
       "|---|---|---|---|---|---|\n",
       "| Aboriginal languages | Aboriginal languages, n.o.s. |   590 |   235 |   30 |   665 |\n",
       "| Aboriginal languages | Algonquian languages, n.i.e. |    45 |    10 |    0 |   120 |\n",
       "| Aboriginal languages | Algonquin                    |  1260 |   370 |   40 |  2480 |\n",
       "| Aboriginal languages | Athabaskan languages, n.i.e. |    50 |    10 |    0 |    85 |\n",
       "| Aboriginal languages | Atikamekw                    |  6150 |  5465 | 1100 |  6645 |\n",
       "| Aboriginal languages | Babine (Wetsuwet'en)         |   110 |    20 |   10 |   210 |\n",
       "| Aboriginal languages | Beaver                       |   190 |    50 |    0 |   340 |\n",
       "| Aboriginal languages | Blackfoot                    |  2815 |  1110 |   85 |  5645 |\n",
       "| Aboriginal languages | Carrier                      |  1025 |   250 |   15 |  2100 |\n",
       "| Aboriginal languages | Cayuga                       |    45 |    10 |   10 |   125 |\n",
       "| Aboriginal languages | Chilcotin                    |   655 |   255 |   15 |  1150 |\n",
       "| Aboriginal languages | Comox                        |    85 |     0 |    0 |   185 |\n",
       "| Aboriginal languages | Cree, n.o.s.                 | 64050 | 37950 | 7800 | 86115 |\n",
       "| Aboriginal languages | Dakota                       |  1210 |   255 |   20 |  1760 |\n",
       "| Aboriginal languages | Dene                         | 10700 |  7710 |  770 | 13060 |\n",
       "| Aboriginal languages | Dogrib (Tlicho)              |  1650 |  1020 |  165 |  2375 |\n",
       "| Aboriginal languages | Gitxsan (Gitksan)            |   880 |   315 |   10 |  1305 |\n",
       "| Aboriginal languages | Gwich'in                     |   255 |    50 |   10 |   360 |\n",
       "| Aboriginal languages | Haida                        |    80 |    10 |    0 |   465 |\n",
       "| Aboriginal languages | Haisla                       |    90 |    20 |    0 |   175 |\n",
       "| Aboriginal languages | Halkomelem                   |   480 |    50 |   20 |  1060 |\n",
       "| Aboriginal languages | Heiltsuk                     |   100 |     5 |   10 |   125 |\n",
       "| Aboriginal languages | Inuinnaqtun (Inuvialuktun)   |  1020 |   165 |   30 |  1975 |\n",
       "| Aboriginal languages | Inuit languages, n.i.e.      |   310 |    90 |   15 |   470 |\n",
       "| Aboriginal languages | Inuktitut                    | 35210 | 29230 | 8795 | 40620 |\n",
       "| Aboriginal languages | Iroquoian languages, n.i.e.  |    35 |     5 |    0 |   115 |\n",
       "| Aboriginal languages | Kaska (Nahani)               |   180 |    20 |   10 |   365 |\n",
       "| Aboriginal languages | Kutenai                      |   110 |    10 |    0 |   170 |\n",
       "| Aboriginal languages | Kwakiutl (Kwak'wala)         |   325 |    25 |   15 |   605 |\n",
       "| Aboriginal languages | Lillooet                     |   315 |    25 |   15 |   790 |\n",
       "| ⋮ | ⋮ | ⋮ | ⋮ | ⋮ | ⋮ |\n",
       "| Aboriginal languages | Nisga'a                    |   400 |   75 |   10 |  1055 |\n",
       "| Aboriginal languages | North Slavey (Hare)        |   765 |  340 |   95 |  1005 |\n",
       "| Aboriginal languages | Northern East Cree         |   315 |  110 |   35 |   550 |\n",
       "| Aboriginal languages | Northern Tutchone          |   220 |   30 |    0 |   280 |\n",
       "| Aboriginal languages | Nuu-chah-nulth (Nootka)    |   280 |   30 |   10 |   560 |\n",
       "| Aboriginal languages | Oji-Cree                   | 12855 | 7905 | 1080 | 15605 |\n",
       "| Aboriginal languages | Ojibway                    | 17885 | 6175 |  765 | 28580 |\n",
       "| Aboriginal languages | Okanagan                   |   275 |   80 |   20 |   820 |\n",
       "| Aboriginal languages | Oneida                     |    60 |   15 |    0 |   185 |\n",
       "| Aboriginal languages | Ottawa (Odawa)             |   150 |   75 |    0 |   205 |\n",
       "| Aboriginal languages | Plains Cree                |  3065 | 1345 |   95 |  5905 |\n",
       "| Aboriginal languages | Salish languages, n.i.e.   |   260 |   25 |    0 |   560 |\n",
       "| Aboriginal languages | Sarsi (Sarcee)             |    80 |   10 |    0 |   145 |\n",
       "| Aboriginal languages | Sekani                     |    85 |   15 |    0 |   185 |\n",
       "| Aboriginal languages | Shuswap (Secwepemctsin)    |   445 |   50 |   35 |  1305 |\n",
       "| Aboriginal languages | Siouan languages, n.i.e.   |    55 |   20 |    0 |   140 |\n",
       "| Aboriginal languages | Slavey, n.o.s.             |   280 |  105 |   10 |   675 |\n",
       "| Aboriginal languages | South Slavey               |   945 |  370 |   35 |  1365 |\n",
       "| Aboriginal languages | Southern East Cree         |    45 |   15 |    0 |    40 |\n",
       "| Aboriginal languages | Southern Tutchone          |    70 |    5 |    0 |   145 |\n",
       "| Aboriginal languages | Squamish                   |    40 |    5 |   10 |   285 |\n",
       "| Aboriginal languages | Stoney                     |  3025 | 1950 |  240 |  3675 |\n",
       "| Aboriginal languages | Straits                    |    80 |   25 |   15 |   365 |\n",
       "| Aboriginal languages | Swampy Cree                |  1440 |  330 |   10 |  2350 |\n",
       "| Aboriginal languages | Tahltan                    |    95 |    5 |    0 |   265 |\n",
       "| Aboriginal languages | Thompson (Ntlakapamux)     |   335 |   20 |    0 |   450 |\n",
       "| Aboriginal languages | Tlingit                    |    95 |    0 |   10 |   260 |\n",
       "| Aboriginal languages | Tsimshian                  |   200 |   30 |   10 |   410 |\n",
       "| Aboriginal languages | Wakashan languages, n.i.e. |    10 |    0 |    0 |    25 |\n",
       "| Aboriginal languages | Woods Cree                 |  1840 |  800 |   75 |  2665 |\n",
       "\n"
      ],
      "text/plain": [
       "   category             language                     mother_tongue most_at_home\n",
       "1  Aboriginal languages Aboriginal languages, n.o.s.   590           235       \n",
       "2  Aboriginal languages Algonquian languages, n.i.e.    45            10       \n",
       "3  Aboriginal languages Algonquin                     1260           370       \n",
       "4  Aboriginal languages Athabaskan languages, n.i.e.    50            10       \n",
       "5  Aboriginal languages Atikamekw                     6150          5465       \n",
       "6  Aboriginal languages Babine (Wetsuwet'en)           110            20       \n",
       "7  Aboriginal languages Beaver                         190            50       \n",
       "8  Aboriginal languages Blackfoot                     2815          1110       \n",
       "9  Aboriginal languages Carrier                       1025           250       \n",
       "10 Aboriginal languages Cayuga                          45            10       \n",
       "11 Aboriginal languages Chilcotin                      655           255       \n",
       "12 Aboriginal languages Comox                           85             0       \n",
       "13 Aboriginal languages Cree, n.o.s.                 64050         37950       \n",
       "14 Aboriginal languages Dakota                        1210           255       \n",
       "15 Aboriginal languages Dene                         10700          7710       \n",
       "16 Aboriginal languages Dogrib (Tlicho)               1650          1020       \n",
       "17 Aboriginal languages Gitxsan (Gitksan)              880           315       \n",
       "18 Aboriginal languages Gwich'in                       255            50       \n",
       "19 Aboriginal languages Haida                           80            10       \n",
       "20 Aboriginal languages Haisla                          90            20       \n",
       "21 Aboriginal languages Halkomelem                     480            50       \n",
       "22 Aboriginal languages Heiltsuk                       100             5       \n",
       "23 Aboriginal languages Inuinnaqtun (Inuvialuktun)    1020           165       \n",
       "24 Aboriginal languages Inuit languages, n.i.e.        310            90       \n",
       "25 Aboriginal languages Inuktitut                    35210         29230       \n",
       "26 Aboriginal languages Iroquoian languages, n.i.e.     35             5       \n",
       "27 Aboriginal languages Kaska (Nahani)                 180            20       \n",
       "28 Aboriginal languages Kutenai                        110            10       \n",
       "29 Aboriginal languages Kwakiutl (Kwak'wala)           325            25       \n",
       "30 Aboriginal languages Lillooet                       315            25       \n",
       "⋮  ⋮                    ⋮                            ⋮             ⋮           \n",
       "38 Aboriginal languages Nisga'a                        400           75        \n",
       "39 Aboriginal languages North Slavey (Hare)            765          340        \n",
       "40 Aboriginal languages Northern East Cree             315          110        \n",
       "41 Aboriginal languages Northern Tutchone              220           30        \n",
       "42 Aboriginal languages Nuu-chah-nulth (Nootka)        280           30        \n",
       "43 Aboriginal languages Oji-Cree                     12855         7905        \n",
       "44 Aboriginal languages Ojibway                      17885         6175        \n",
       "45 Aboriginal languages Okanagan                       275           80        \n",
       "46 Aboriginal languages Oneida                          60           15        \n",
       "47 Aboriginal languages Ottawa (Odawa)                 150           75        \n",
       "48 Aboriginal languages Plains Cree                   3065         1345        \n",
       "49 Aboriginal languages Salish languages, n.i.e.       260           25        \n",
       "50 Aboriginal languages Sarsi (Sarcee)                  80           10        \n",
       "51 Aboriginal languages Sekani                          85           15        \n",
       "52 Aboriginal languages Shuswap (Secwepemctsin)        445           50        \n",
       "53 Aboriginal languages Siouan languages, n.i.e.        55           20        \n",
       "54 Aboriginal languages Slavey, n.o.s.                 280          105        \n",
       "55 Aboriginal languages South Slavey                   945          370        \n",
       "56 Aboriginal languages Southern East Cree              45           15        \n",
       "57 Aboriginal languages Southern Tutchone               70            5        \n",
       "58 Aboriginal languages Squamish                        40            5        \n",
       "59 Aboriginal languages Stoney                        3025         1950        \n",
       "60 Aboriginal languages Straits                         80           25        \n",
       "61 Aboriginal languages Swampy Cree                   1440          330        \n",
       "62 Aboriginal languages Tahltan                         95            5        \n",
       "63 Aboriginal languages Thompson (Ntlakapamux)         335           20        \n",
       "64 Aboriginal languages Tlingit                         95            0        \n",
       "65 Aboriginal languages Tsimshian                      200           30        \n",
       "66 Aboriginal languages Wakashan languages, n.i.e.      10            0        \n",
       "67 Aboriginal languages Woods Cree                    1840          800        \n",
       "   most_at_work lang_known\n",
       "1    30           665     \n",
       "2     0           120     \n",
       "3    40          2480     \n",
       "4     0            85     \n",
       "5  1100          6645     \n",
       "6    10           210     \n",
       "7     0           340     \n",
       "8    85          5645     \n",
       "9    15          2100     \n",
       "10   10           125     \n",
       "11   15          1150     \n",
       "12    0           185     \n",
       "13 7800         86115     \n",
       "14   20          1760     \n",
       "15  770         13060     \n",
       "16  165          2375     \n",
       "17   10          1305     \n",
       "18   10           360     \n",
       "19    0           465     \n",
       "20    0           175     \n",
       "21   20          1060     \n",
       "22   10           125     \n",
       "23   30          1975     \n",
       "24   15           470     \n",
       "25 8795         40620     \n",
       "26    0           115     \n",
       "27   10           365     \n",
       "28    0           170     \n",
       "29   15           605     \n",
       "30   15           790     \n",
       "⋮  ⋮            ⋮         \n",
       "38   10          1055     \n",
       "39   95          1005     \n",
       "40   35           550     \n",
       "41    0           280     \n",
       "42   10           560     \n",
       "43 1080         15605     \n",
       "44  765         28580     \n",
       "45   20           820     \n",
       "46    0           185     \n",
       "47    0           205     \n",
       "48   95          5905     \n",
       "49    0           560     \n",
       "50    0           145     \n",
       "51    0           185     \n",
       "52   35          1305     \n",
       "53    0           140     \n",
       "54   10           675     \n",
       "55   35          1365     \n",
       "56    0            40     \n",
       "57    0           145     \n",
       "58   10           285     \n",
       "59  240          3675     \n",
       "60   15           365     \n",
       "61   10          2350     \n",
       "62    0           265     \n",
       "63    0           450     \n",
       "64   10           260     \n",
       "65   10           410     \n",
       "66    0            25     \n",
       "67   75          2665     "
      ]
     },
     "metadata": {},
     "output_type": "display_data"
    }
   ],
   "source": [
    "# we can mostly continue onward as if it were a regular data frame. For example, we can use the filter function to obtain\n",
    "#only certain rows\n",
    "\n",
    "#to retrieve the DB data as a data frame we use the collect function NOT included in dbplyr\n",
    "\n",
    "aboriginal_lang_data <- collect(aboriginal_lang_db)\n",
    "aboriginal_lang_data\n",
    "\n",
    "# make sure you use filter and select on the database table to reduce the data to a reasonable size before using collect\n",
    "# to read it into R!"
   ]
  },
  {
   "cell_type": "code",
   "execution_count": 12,
   "id": "5bd2f055-3ce9-4b2e-b795-954e99625fcc",
   "metadata": {},
   "outputs": [
    {
     "data": {
      "text/html": [
       "&lt;NA&gt;"
      ],
      "text/latex": [
       "<NA>"
      ],
      "text/markdown": [
       "&lt;NA&gt;"
      ],
      "text/plain": [
       "[1] NA"
      ]
     },
     "metadata": {},
     "output_type": "display_data"
    }
   ],
   "source": [
    "nrow(aboriginal_lang_db)"
   ]
  },
  {
   "cell_type": "code",
   "execution_count": 13,
   "id": "cf38b725-2862-4ddf-b6e0-98e6ae47e934",
   "metadata": {},
   "outputs": [
    {
     "ename": "ERROR",
     "evalue": "Error: tail() is not supported by sql sources\n",
     "output_type": "error",
     "traceback": [
      "Error: tail() is not supported by sql sources\nTraceback:\n",
      "1. tail(aboriginal_lang_db)",
      "2. tail.tbl_lazy(aboriginal_lang_db)",
      "3. stop(\"tail() is not supported by sql sources\", call. = FALSE)"
     ]
    }
   ],
   "source": [
    "tail(aboriginal_lang_db)"
   ]
  },
  {
   "cell_type": "code",
   "execution_count": null,
   "id": "e839485c-8460-464c-b1f4-205d045be858",
   "metadata": {},
   "outputs": [],
   "source": [
    "# once you have finished your data wrangling of the tbl database reference object, it is advisable to bring it into R as a data frame \n",
    "\n",
    "#using collect. But be very careful using collect: databases are often very big, and reading an entire table into R might take a long\n",
    "\n",
    "#time to run or even possibly crash your machine. So make sure you use filter and select on the database table to reduce the data to\n",
    "\n",
    "# a reasonable size before using collect to read it into R!"
   ]
  }
 ],
 "metadata": {
  "kernelspec": {
   "display_name": "R",
   "language": "R",
   "name": "ir"
  },
  "language_info": {
   "codemirror_mode": "r",
   "file_extension": ".r",
   "mimetype": "text/x-r-source",
   "name": "R",
   "pygments_lexer": "r",
   "version": "4.1.1"
  }
 },
 "nbformat": 4,
 "nbformat_minor": 5
}
