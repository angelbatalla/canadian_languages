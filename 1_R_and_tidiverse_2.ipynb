{
 "cells": [
  {
   "cell_type": "code",
   "execution_count": null,
   "id": "f05517e0-0997-4d5a-8c79-e5f1c33a81f9",
   "metadata": {},
   "outputs": [],
   "source": [
    "library(tidyverse)\n",
    "\n",
    "# load the data set\n",
    "can_lang <- read_csv(\"data/can_lang.csv\")\n",
    "\n",
    "# obtain the 10 most common Aboriginal languages\n",
    "aboriginal_lang <- filter(can_lang, category == \"Aboriginal languages\")\n",
    "arranged_lang <- arrange(aboriginal_lang, by = desc(mother_tongue))\n",
    "ten_lang <- slice(arranged_lang, 1:10)\n",
    "\n",
    "# create the visualization\n",
    "ggplot(ten_lang, aes(x = mother_tongue,\n",
    "                     y = reorder(language, mother_tongue))) +\n",
    "  geom_bar(stat = \"identity\") +\n",
    "  xlab(\"Mother Tongue (Number of Canadian Residents)\") +\n",
    "  ylab(\"Language\") "
   ]
  }
 ],
 "metadata": {
  "kernelspec": {
   "display_name": "R",
   "language": "R",
   "name": "ir"
  },
  "language_info": {
   "codemirror_mode": "r",
   "file_extension": ".r",
   "mimetype": "text/x-r-source",
   "name": "R",
   "pygments_lexer": "r",
   "version": "4.1.1"
  }
 },
 "nbformat": 4,
 "nbformat_minor": 5
}
