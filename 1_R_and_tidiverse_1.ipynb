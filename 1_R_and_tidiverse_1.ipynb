{
 "cells": [
  {
   "cell_type": "code",
   "execution_count": null,
   "id": "73a75b28-f118-43d6-b74e-417395c79781",
   "metadata": {},
   "outputs": [],
   "source": [
    "install.packages(\"tidyverse\")"
   ]
  },
  {
   "cell_type": "code",
   "execution_count": null,
   "id": "c9e88cf9-8000-4a5e-9e46-7f849897a01e",
   "metadata": {},
   "outputs": [],
   "source": [
    "library(tidyverse)"
   ]
  },
  {
   "cell_type": "code",
   "execution_count": null,
   "id": "5451a1f2-dce9-442d-8bca-30028081d9e6",
   "metadata": {},
   "outputs": [],
   "source": [
    "read_csv(\"data/can_lang.csv\")"
   ]
  },
  {
   "cell_type": "code",
   "execution_count": null,
   "id": "ffb645a1-e406-4746-88b2-88596f2d93ef",
   "metadata": {},
   "outputs": [],
   "source": [
    "can_lang <- read_csv(\"data/can_lang.csv\")"
   ]
  },
  {
   "cell_type": "code",
   "execution_count": null,
   "id": "7aaa2d62-1e7e-4bdc-96f0-c0d9d5166736",
   "metadata": {},
   "outputs": [],
   "source": [
    "can_lang"
   ]
  },
  {
   "cell_type": "code",
   "execution_count": null,
   "id": "cb7bf98e-223c-488c-8e42-76beeeec3705",
   "metadata": {},
   "outputs": [],
   "source": [
    "aboriginal_lang <- filter(can_lang, category == \"Aboriginal languages\")\n",
    "aboriginal_lang"
   ]
  },
  {
   "cell_type": "code",
   "execution_count": null,
   "id": "181ad8da-b21b-434c-bdef-0091c19d3666",
   "metadata": {},
   "outputs": [],
   "source": [
    "selected_lang <- select(aboriginal_lang, language, mother_tongue)\n",
    "selected_lang"
   ]
  },
  {
   "cell_type": "code",
   "execution_count": null,
   "id": "5611f31f-1a23-4136-87ec-04c11f85f0d1",
   "metadata": {},
   "outputs": [],
   "source": [
    "arranged_lang <- arrange(selected_lang, by = desc(mother_tongue))\n",
    "arranged_lang"
   ]
  },
  {
   "cell_type": "code",
   "execution_count": null,
   "id": "7e34c874-433d-4456-80f7-c2d9731a2b0c",
   "metadata": {},
   "outputs": [],
   "source": [
    "ten_lang <- slice(arranged_lang, 1:10)\n",
    "ten_lang"
   ]
  },
  {
   "cell_type": "code",
   "execution_count": null,
   "id": "06697da2-61ff-42df-975e-156e04dc3255",
   "metadata": {},
   "outputs": [],
   "source": [
    "ggplot(ten_lang, aes(x = language, y = mother_tongue)) +\n",
    "  geom_bar(stat = \"identity\")"
   ]
  },
  {
   "cell_type": "code",
   "execution_count": null,
   "id": "789c5943-055f-420e-8e4f-ecaeca055898",
   "metadata": {},
   "outputs": [],
   "source": [
    "ggplot(ten_lang, aes(x = language, y = mother_tongue)) +\n",
    "  geom_bar(stat = \"identity\") +\n",
    "  xlab(\"Language\") +\n",
    "  ylab(\"Mother Tongue (Number of Canadian Residents)\")"
   ]
  },
  {
   "cell_type": "code",
   "execution_count": null,
   "id": "381f8417-3c87-46f1-8631-a7afb7a1f1e3",
   "metadata": {},
   "outputs": [],
   "source": [
    "ggplot(ten_lang, aes(x = mother_tongue, y = language)) +\n",
    "  geom_bar(stat = \"identity\") +\n",
    "  xlab(\"Mother Tongue (Number of Canadian Residents)\") +\n",
    "  ylab(\"Language\")"
   ]
  },
  {
   "cell_type": "code",
   "execution_count": null,
   "id": "6f1a218b-38f3-443c-89c1-1463e4d15b1d",
   "metadata": {},
   "outputs": [],
   "source": [
    "ggplot(ten_lang, aes(x = mother_tongue,\n",
    "                     y = reorder(language, mother_tongue))) +\n",
    "  geom_bar(stat = \"identity\") +\n",
    "  xlab(\"Mother Tongue (Number of Canadian Residents)\") +\n",
    "  ylab(\"Language\")"
   ]
  },
  {
   "cell_type": "code",
   "execution_count": null,
   "id": "4b9a71df-ac20-49cb-ad29-6c00e7a5b18b",
   "metadata": {},
   "outputs": [],
   "source": []
  }
 ],
 "metadata": {
  "kernelspec": {
   "display_name": "R",
   "language": "R",
   "name": "ir"
  },
  "language_info": {
   "codemirror_mode": "r",
   "file_extension": ".r",
   "mimetype": "text/x-r-source",
   "name": "R",
   "pygments_lexer": "r",
   "version": "4.1.1"
  }
 },
 "nbformat": 4,
 "nbformat_minor": 5
}
