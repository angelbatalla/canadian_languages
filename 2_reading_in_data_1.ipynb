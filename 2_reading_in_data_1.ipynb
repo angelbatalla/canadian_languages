{
 "cells": [
  {
   "cell_type": "code",
   "execution_count": null,
   "id": "ae391922-bd6a-4063-a6b1-6f6e955f7ac3",
   "metadata": {},
   "outputs": [],
   "source": [
    "library(tidyverse)"
   ]
  },
  {
   "cell_type": "code",
   "execution_count": null,
   "id": "c68e2a1a-5176-4a96-a668-e1192f33f69c",
   "metadata": {},
   "outputs": [],
   "source": [
    "canlang_data <- read_csv(\"data/can_lang.csv\")"
   ]
  },
  {
   "cell_type": "code",
   "execution_count": null,
   "id": "e16ea6fb-47b6-462c-af74-0d66b00782dd",
   "metadata": {},
   "outputs": [],
   "source": [
    "canlang_data <- read_csv(\"data/can_lang_meta-data.csv\")"
   ]
  },
  {
   "cell_type": "code",
   "execution_count": null,
   "id": "0cb9f402-cd5f-435a-8de8-230c318ee1da",
   "metadata": {},
   "outputs": [],
   "source": [
    "canlang_data"
   ]
  },
  {
   "cell_type": "code",
   "execution_count": null,
   "id": "8db256c1-818f-4ad9-ade3-0d0eb46ef02a",
   "metadata": {},
   "outputs": [],
   "source": [
    "canlang_data <- read_csv(\"data/can_lang_meta-data.csv\", \n",
    "                         skip = 3)\n",
    "canlang_data"
   ]
  },
  {
   "cell_type": "code",
   "execution_count": null,
   "id": "5bb8bbfc-a9c6-410f-a6b2-cc1e9edb23a9",
   "metadata": {},
   "outputs": [],
   "source": [
    "canlang_data <- read_tsv(\"data/can_lang_tab.tsv\")\n",
    "canlang_data"
   ]
  },
  {
   "cell_type": "code",
   "execution_count": null,
   "id": "aa3b6bd7-3e12-4e2f-85f6-32f25dbe7650",
   "metadata": {},
   "outputs": [],
   "source": [
    "canlang_data <- read_delim(\"data/can_lang.tsv\", \n",
    "                           delim = \"\\t\", \n",
    "                           col_names = FALSE)\n",
    "canlang_data"
   ]
  },
  {
   "cell_type": "code",
   "execution_count": null,
   "id": "07abe67d-7e72-449a-8aa2-e6f060442cff",
   "metadata": {},
   "outputs": [],
   "source": [
    "canlang_data <- rename(canlang_data,\n",
    "       category = X1, \n",
    "       language = X2, \n",
    "       mother_tongue = X3,\n",
    "       most_at_home = X4, \n",
    "       most_at_work = X5, \n",
    "       lang_known = X6)\n",
    "canlang_data"
   ]
  },
  {
   "cell_type": "code",
   "execution_count": null,
   "id": "30f88233-b0c9-4e68-9705-5314f6047a4a",
   "metadata": {},
   "outputs": [],
   "source": [
    "url <- \"https://raw.githubusercontent.com/UBC-DSCI/data/main/can_lang.csv\"\n",
    "canlang_data <- read_csv(url)\n",
    "\n",
    "canlang_data"
   ]
  },
  {
   "cell_type": "code",
   "execution_count": null,
   "id": "a370b013-f52f-40b5-b337-0e5ce844ef25",
   "metadata": {},
   "outputs": [],
   "source": [
    "library(readxl)"
   ]
  },
  {
   "cell_type": "code",
   "execution_count": null,
   "id": "b81d0457-9507-4a3c-8887-5a4641f61efc",
   "metadata": {},
   "outputs": [],
   "source": [
    "canlang_data <- read_excel(\"data/can_lang.xlsx\")\n",
    "canlang_data"
   ]
  },
  {
   "cell_type": "code",
   "execution_count": null,
   "id": "f8a54ac8-16b5-41d5-b8f3-7b9f780dd02f",
   "metadata": {},
   "outputs": [],
   "source": []
  }
 ],
 "metadata": {
  "kernelspec": {
   "display_name": "R",
   "language": "R",
   "name": "ir"
  },
  "language_info": {
   "codemirror_mode": "r",
   "file_extension": ".r",
   "mimetype": "text/x-r-source",
   "name": "R",
   "pygments_lexer": "r",
   "version": "4.1.1"
  }
 },
 "nbformat": 4,
 "nbformat_minor": 5
}
